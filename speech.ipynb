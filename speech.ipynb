{
 "cells": [
  {
   "cell_type": "code",
   "execution_count": 10,
   "metadata": {},
   "outputs": [
    {
     "name": "stderr",
     "output_type": "stream",
     "text": [
      "[nltk_data] Downloading package punkt to /Users/Joey_Chan/nltk_data...\n",
      "[nltk_data]   Package punkt is already up-to-date!\n"
     ]
    }
   ],
   "source": [
    "from email.mime import audio\n",
    "import sounddevice as sd\n",
    "import soundfile as sf\n",
    "from scipy.io.wavfile import write\n",
    "import wavio as wv\n",
    "import speech_recognition as sr\n",
    "from scipy.io import wavfile\n",
    "import noisereduce as nr\n",
    "import text2emotion as te\n",
    "import nltk\n",
    "import pandas as pd\n",
    "from nltk import word_tokenize\n",
    "from nltk.stem.snowball import SnowballStemmer\n",
    "import requests\n",
    "from LeXmo import LeXmo"
   ]
  },
  {
   "cell_type": "code",
   "execution_count": 4,
   "metadata": {},
   "outputs": [],
   "source": [
    "freq = 44100\n",
    "\n",
    "duration = 5\n",
    "\n",
    "recording = sd.rec(int(duration * freq), samplerate=freq, channels=2)\n",
    "\n",
    "sd.wait()\n",
    "\n",
    "write(\"recording0.wav\", freq, recording)\n",
    "\n",
    "wv.write(\"a.wav\", recording, freq, sampwidth=2)"
   ]
  },
  {
   "cell_type": "code",
   "execution_count": 5,
   "metadata": {},
   "outputs": [
    {
     "name": "stdout",
     "output_type": "stream",
     "text": [
      "Text: nothing is just as just another like\n"
     ]
    }
   ],
   "source": [
    "r = sr.Recognizer()\n",
    "\n",
    "hellow=sr.AudioFile('a.wav')\n",
    "with hellow as source:\n",
    "    audio = r.record(source)\n",
    "try:\n",
    "    s = r.recognize_google(audio)\n",
    "    print(\"Text: \"+s)\n",
    "except Exception as e:\n",
    "    print(\"Exception: \"+str(e))"
   ]
  },
  {
   "cell_type": "code",
   "execution_count": 33,
   "metadata": {},
   "outputs": [],
   "source": [
    "t= \"\"\"From the beginning, she had sat looking at him fixedly.\n",
    "  As he now leaned back in his chair, and bent his deep-set eyes upon her in his turn,\n",
    "  perhaps he might have seen one wavering moment in her, \n",
    "  when she was impelled to throw herself upon his breast,\n",
    "  and give him the pent-up confidences of her heart.\n",
    "  But, to see it, he must have overleaped at a bound the artificial barriers he had for many years been erecting, \n",
    "  between himself and all those subtle essences of humanity which will elude the utmost cunning of algebra\n",
    "  until the last trumpet ever to be sounded shall blow even algebra to wreck.\n",
    "  The barriers were too many and too high for such a leap. With his unbending,\n",
    "  utilitarian, matter-of-fact face, he hardened her again;\n",
    "  and the moment shot away into the plumbless sadness happy of the past,\n",
    "  to mingle with all the lost opportunities that are drowned there.\"\"\""
   ]
  },
  {
   "cell_type": "code",
   "execution_count": 34,
   "metadata": {},
   "outputs": [],
   "source": [
    "emo = LeXmo.LeXmo(t)"
   ]
  },
  {
   "cell_type": "code",
   "execution_count": 35,
   "metadata": {},
   "outputs": [
    {
     "name": "stdout",
     "output_type": "stream",
     "text": [
      "{'text': 'From the beginning, she had sat looking at him fixedly.\\n  As he now leaned back in his chair, and bent his deep-set eyes upon her in his turn,\\n  perhaps he might have seen one wavering moment in her, \\n  when she was impelled to throw herself upon his breast,\\n  and give him the pent-up confidences of her heart.\\n  But, to see it, he must have overleaped at a bound the artificial barriers he had for many years been erecting, \\n  between himself and all those subtle essences of humanity which will elude the utmost cunning of algebra\\n  until the last trumpet ever to be sounded shall blow even algebra to wreck.\\n  The barriers were too many and too high for such a leap. With his unbending,\\n  utilitarian, matter-of-fact face, he hardened her again;\\n  and the moment shot away into the plumbless sadness happy of the past,\\n  to mingle with all the lost opportunities that are drowned there.', 'anger': 0.023121387283236993, 'anticipation': 0.0, 'disgust': 0.005780346820809248, 'fear': 0.023121387283236993, 'joy': 0.0, 'negative': 0.05202312138728324, 'positive': 0.0, 'sadness': 0.023121387283236993, 'surprise': 0.011560693641618497, 'trust': 0.0}\n"
     ]
    }
   ],
   "source": [
    "print(emo)"
   ]
  }
 ],
 "metadata": {
  "kernelspec": {
   "display_name": "Python 3.9.13 64-bit",
   "language": "python",
   "name": "python3"
  },
  "language_info": {
   "codemirror_mode": {
    "name": "ipython",
    "version": 3
   },
   "file_extension": ".py",
   "mimetype": "text/x-python",
   "name": "python",
   "nbconvert_exporter": "python",
   "pygments_lexer": "ipython3",
   "version": "3.9.13"
  },
  "orig_nbformat": 4,
  "vscode": {
   "interpreter": {
    "hash": "397704579725e15f5c7cb49fe5f0341eb7531c82d19f2c29d197e8b64ab5776b"
   }
  }
 },
 "nbformat": 4,
 "nbformat_minor": 2
}
